{
  "nbformat": 4,
  "nbformat_minor": 0,
  "metadata": {
    "colab": {
      "provenance": [],
      "authorship_tag": "ABX9TyPdgUSk6ZsarZcqvRRmLLNS",
      "include_colab_link": true
    },
    "kernelspec": {
      "name": "python3",
      "display_name": "Python 3"
    },
    "language_info": {
      "name": "python"
    }
  },
  "cells": [
    {
      "cell_type": "markdown",
      "metadata": {
        "id": "view-in-github",
        "colab_type": "text"
      },
      "source": [
        "<a href=\"https://colab.research.google.com/github/mariele2105/aprendizagem-de-maquina/blob/main/Untitled0.ipynb\" target=\"_parent\"><img src=\"https://colab.research.google.com/assets/colab-badge.svg\" alt=\"Open In Colab\"/></a>"
      ]
    },
    {
      "cell_type": "markdown",
      "source": [
        "Configuração do ambiente\n"
      ],
      "metadata": {
        "id": "x9DMjsIqf0ok"
      }
    },
    {
      "cell_type": "code",
      "execution_count": 2,
      "metadata": {
        "colab": {
          "base_uri": "https://localhost:8080/",
          "height": 456
        },
        "id": "h4qdaXvKfBK9",
        "outputId": "b6ba4950-2d7d-4659-ecf7-904f59b92276"
      },
      "outputs": [
        {
          "output_type": "stream",
          "name": "stdout",
          "text": [
            "Generating locales (this might take a while)...\n",
            "Generation complete.\n",
            "\u001b[1mdpkg-trigger:\u001b[0m \u001b[1;31merror:\u001b[0m must be called from a maintainer script (or with a --by-package option)\n",
            "\n",
            "Type dpkg-trigger --help for help about this utility.\n",
            "Generating locales (this might take a while)...\n",
            "  en_US.UTF-8... done\n",
            "  pt_BR.ISO-8859-1... done\n",
            "Generation complete.\n",
            "Requirement already satisfied: pandas in /usr/local/lib/python3.11/dist-packages (2.2.2)\n",
            "Requirement already satisfied: numpy>=1.23.2 in /usr/local/lib/python3.11/dist-packages (from pandas) (1.26.4)\n",
            "Requirement already satisfied: python-dateutil>=2.8.2 in /usr/local/lib/python3.11/dist-packages (from pandas) (2.8.2)\n",
            "Requirement already satisfied: pytz>=2020.1 in /usr/local/lib/python3.11/dist-packages (from pandas) (2025.1)\n",
            "Requirement already satisfied: tzdata>=2022.7 in /usr/local/lib/python3.11/dist-packages (from pandas) (2025.1)\n",
            "Requirement already satisfied: six>=1.5 in /usr/local/lib/python3.11/dist-packages (from python-dateutil>=2.8.2->pandas) (1.17.0)\n"
          ]
        },
        {
          "output_type": "error",
          "ename": "NameError",
          "evalue": "name 'os' is not defined",
          "traceback": [
            "\u001b[0;31m---------------------------------------------------------------------------\u001b[0m",
            "\u001b[0;31mNameError\u001b[0m                                 Traceback (most recent call last)",
            "\u001b[0;32m<ipython-input-2-02c6c5a469ba>\u001b[0m in \u001b[0;36m<cell line: 0>\u001b[0;34m()\u001b[0m\n\u001b[1;32m      6\u001b[0m \u001b[0;34m\u001b[0m\u001b[0m\n\u001b[1;32m      7\u001b[0m \u001b[0;34m\u001b[0m\u001b[0m\n\u001b[0;32m----> 8\u001b[0;31m \u001b[0mos\u001b[0m\u001b[0;34m.\u001b[0m\u001b[0mkill\u001b[0m\u001b[0;34m(\u001b[0m\u001b[0mos\u001b[0m\u001b[0;34m.\u001b[0m\u001b[0mgetpid\u001b[0m\u001b[0;34m(\u001b[0m\u001b[0;34m)\u001b[0m\u001b[0;34m,\u001b[0m \u001b[0;36m9\u001b[0m\u001b[0;34m)\u001b[0m\u001b[0;34m\u001b[0m\u001b[0;34m\u001b[0m\u001b[0m\n\u001b[0m",
            "\u001b[0;31mNameError\u001b[0m: name 'os' is not defined"
          ]
        }
      ],
      "source": [
        "!/usr/share/locales/install-language-pack pt_BR\n",
        "\n",
        "!dpkg-reconfigure locales\n",
        "\n",
        "!pip install pandas\n",
        "\n",
        "\n",
        "os.kill(os.getpid(), 9)"
      ]
    },
    {
      "cell_type": "markdown",
      "source": [
        "Dever de casa 01"
      ],
      "metadata": {
        "id": "4b4b44fmwWzJ"
      }
    },
    {
      "cell_type": "code",
      "source": [
        "import pandas as pd\n",
        "\n",
        "nomes = [\"Adriely\", \"Mariele\", \"Mariana\", \"Davi\", \"Adriana\"]\n",
        "data_de_nascimento = [\"28/01/2004\", \"21/05/2000\", \"02/02/2000\", \"04/10/2016\", \"06/01/1986\"]\n",
        "dia_do_cadastro = [\"05/02/2025\", \"06/02/2025\", \"07/02/2025\", \"08/02/2025\", \"09/02/2025\"]\n",
        "hora_do_cadastro = [\"12:15\", \"13:15\", \"14:15\", \"15:15\", \"16:15\"]\n",
        "\n",
        "dados = {\n",
        "    'nomes' :nomes,\n",
        "    'data_de_nascimento' :data_de_nascimento,\n",
        "    'dia_do_cadastro' :dia_do_cadastro,\n",
        "    'hora_do_cadastro' :hora_do_cadastro\n",
        "}\n",
        "df = pd.DataFrame(dados) #criei um dataframe\n",
        "df.to_csv('dados.csv') #transformei o dataframe em csv\n",
        "#print(df)\n",
        "\n",
        "df = pd.read_csv('dados.csv') #lendo um csv\n",
        "\n",
        "opcao = int(input(\"Digite um número(1 a 5): \"))\n",
        "\n",
        "print(f\"Registro {opcao}: Nome: {df['nomes'][opcao-1]}; Data de Nascimento : {df['data_de_nascimento'][opcao-1]}; Dia do Cadastro : {df['dia_do_cadastro'][opcao-1]}; Hora do Cadastro : {df['dia_do_cadastro'][opcao-1]}\")\n"
      ],
      "metadata": {
        "colab": {
          "base_uri": "https://localhost:8080/"
        },
        "id": "NTTwh5sFjndc",
        "outputId": "93d8ca52-8bc0-4754-8b53-ff6bc440ca1f"
      },
      "execution_count": 1,
      "outputs": [
        {
          "output_type": "stream",
          "name": "stdout",
          "text": [
            "Digite um número(1 a 5): 1\n",
            "Registro 1: Nome: Adriely; Data de Nascimento : 28/01/2004; Dia do Cadastro : 05/02/2025; Hora do Cadastro : 05/02/2025\n"
          ]
        }
      ]
    }
  ]
}